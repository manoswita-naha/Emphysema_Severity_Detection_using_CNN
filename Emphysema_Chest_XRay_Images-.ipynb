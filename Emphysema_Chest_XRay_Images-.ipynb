{
 "cells": [
  {
   "cell_type": "markdown",
   "metadata": {},
   "source": [
    "# Analysis of Chest X-Ray images"
   ]
  },
  {
   "cell_type": "markdown",
   "metadata": {},
   "source": [
    "Neural networks have revolutionised image processing in several different domains. Among these is the field of medical imaging. In the following notebook, we will get some hands-on experience in working with Chest X-Ray (CXR) images.\n",
    "\n",
    "The objective of this exercise is to identify images where an \"effusion\" is present. This is a classification problem, where we will be dealing with two classes - 'effusion' and 'nofinding'. Here, the latter represents a \"normal\" X-ray image.\n",
    "\n",
    "This same methodology can be used to spot various other illnesses that can be detected via a chest x-ray. For the scope of this demonstration, we will specifically deal with \"effusion\"."
   ]
  },
  {
   "cell_type": "markdown",
   "metadata": {},
   "source": [
    "## 1. Data Pre-processing"
   ]
  },
  {
   "cell_type": "markdown",
   "metadata": {},
   "source": [
    "Our data is in the form of grayscale (black and white) images of chest x-rays. To perform our classification task effectively, we need to perform some pre-processing of the data.\n",
    "\n",
    "First, we load all the relevant libraries."
   ]
  },
  {
   "cell_type": "code",
   "execution_count": 1,
   "metadata": {},
   "outputs": [],
   "source": [
    "from skimage import io\n",
    "import os\n",
    "import glob\n",
    "import numpy as np\n",
    "import matplotlib.pyplot as plt\n",
    "\n",
    "import warnings\n",
    "warnings.simplefilter('ignore')"
   ]
  },
  {
   "cell_type": "markdown",
   "metadata": {},
   "source": [
    "Point a variable to the path where the data resides. Note that to use the code below you will need to move the folders effusion/ and nofinding/ into one common folder. You can do something like this:\n",
    "\n",
    "```\n",
    "mkdir CXR_Data\n",
    "move effusion CXR_Data\n",
    "move nofinding CXR_Data\n",
    "```"
   ]
  },
  {
   "cell_type": "code",
   "execution_count": 2,
   "metadata": {},
   "outputs": [],
   "source": [
    "DATASET_PATH = './CXR_data/'\n",
    "\n",
    "# There are two classes of images that we will deal with\n",
    "disease_cls = ['effusion', 'nofinding']"
   ]
  },
  {
   "cell_type": "markdown",
   "metadata": {},
   "source": [
    "Next, we read the \"effusion\" and \"nofinding\" images."
   ]
  },
  {
   "cell_type": "code",
   "execution_count": 6,
   "metadata": {},
   "outputs": [
    {
     "ename": "IndexError",
     "evalue": "list index out of range",
     "output_type": "error",
     "traceback": [
      "\u001b[1;31m---------------------------------------------------------------------------\u001b[0m",
      "\u001b[1;31mIndexError\u001b[0m                                Traceback (most recent call last)",
      "\u001b[1;32m<ipython-input-6-fdc3cc3fb418>\u001b[0m in \u001b[0;36m<module>\u001b[1;34m\u001b[0m\n\u001b[0;32m      1\u001b[0m \u001b[0meffusion_path\u001b[0m \u001b[1;33m=\u001b[0m \u001b[0mos\u001b[0m\u001b[1;33m.\u001b[0m\u001b[0mpath\u001b[0m\u001b[1;33m.\u001b[0m\u001b[0mjoin\u001b[0m\u001b[1;33m(\u001b[0m\u001b[0mDATASET_PATH\u001b[0m\u001b[1;33m,\u001b[0m \u001b[0mdisease_cls\u001b[0m\u001b[1;33m[\u001b[0m\u001b[1;36m0\u001b[0m\u001b[1;33m]\u001b[0m\u001b[1;33m,\u001b[0m \u001b[1;34m'*'\u001b[0m\u001b[1;33m)\u001b[0m\u001b[1;33m\u001b[0m\u001b[1;33m\u001b[0m\u001b[0m\n\u001b[0;32m      2\u001b[0m \u001b[0meffusion\u001b[0m \u001b[1;33m=\u001b[0m \u001b[0mglob\u001b[0m\u001b[1;33m.\u001b[0m\u001b[0mglob\u001b[0m\u001b[1;33m(\u001b[0m\u001b[0meffusion_path\u001b[0m\u001b[1;33m)\u001b[0m\u001b[1;33m\u001b[0m\u001b[1;33m\u001b[0m\u001b[0m\n\u001b[1;32m----> 3\u001b[1;33m \u001b[0meffusion\u001b[0m \u001b[1;33m=\u001b[0m \u001b[0mio\u001b[0m\u001b[1;33m.\u001b[0m\u001b[0mimread\u001b[0m\u001b[1;33m(\u001b[0m\u001b[0meffusion\u001b[0m\u001b[1;33m[\u001b[0m\u001b[1;36m0\u001b[0m\u001b[1;33m]\u001b[0m\u001b[1;33m)\u001b[0m\u001b[1;33m\u001b[0m\u001b[1;33m\u001b[0m\u001b[0m\n\u001b[0m\u001b[0;32m      4\u001b[0m \u001b[1;33m\u001b[0m\u001b[0m\n\u001b[0;32m      5\u001b[0m \u001b[0mnormal_path\u001b[0m \u001b[1;33m=\u001b[0m \u001b[0mos\u001b[0m\u001b[1;33m.\u001b[0m\u001b[0mpath\u001b[0m\u001b[1;33m.\u001b[0m\u001b[0mjoin\u001b[0m\u001b[1;33m(\u001b[0m\u001b[0mDATASET_PATH\u001b[0m\u001b[1;33m,\u001b[0m \u001b[0mdisease_cls\u001b[0m\u001b[1;33m[\u001b[0m\u001b[1;36m1\u001b[0m\u001b[1;33m]\u001b[0m\u001b[1;33m,\u001b[0m \u001b[1;34m'*'\u001b[0m\u001b[1;33m)\u001b[0m\u001b[1;33m\u001b[0m\u001b[1;33m\u001b[0m\u001b[0m\n",
      "\u001b[1;31mIndexError\u001b[0m: list index out of range"
     ]
    }
   ],
   "source": [
    "effusion_path = os.path.join(DATASET_PATH, disease_cls[0], '*')\n",
    "effusion = glob.glob(effusion_path)\n",
    "effusion = io.imread(effusion[0])\n",
    "\n",
    "normal_path = os.path.join(DATASET_PATH, disease_cls[1], '*')\n",
    "normal = glob.glob(normal_path)\n",
    "normal = io.imread(normal[0])\n",
    "\n",
    "f, axes = plt.subplots(1, 2, sharey=True)\n",
    "f.set_figwidth(10)\n",
    "    \n",
    "axes[0].imshow(effusion, cmap='gray')\n",
    "axes[1].imshow(normal, cmap='gray')"
   ]
  },
  {
   "cell_type": "code",
   "execution_count": 4,
   "metadata": {},
   "outputs": [
    {
     "ename": "AttributeError",
     "evalue": "'list' object has no attribute 'shape'",
     "output_type": "error",
     "traceback": [
      "\u001b[1;31m---------------------------------------------------------------------------\u001b[0m",
      "\u001b[1;31mAttributeError\u001b[0m                            Traceback (most recent call last)",
      "\u001b[1;32m<ipython-input-4-fcefa4415321>\u001b[0m in \u001b[0;36m<module>\u001b[1;34m\u001b[0m\n\u001b[1;32m----> 1\u001b[1;33m \u001b[0meffusion\u001b[0m\u001b[1;33m.\u001b[0m\u001b[0mshape\u001b[0m\u001b[1;33m\u001b[0m\u001b[1;33m\u001b[0m\u001b[0m\n\u001b[0m",
      "\u001b[1;31mAttributeError\u001b[0m: 'list' object has no attribute 'shape'"
     ]
    }
   ],
   "source": [
    "effusion.shape"
   ]
  },
  {
   "cell_type": "code",
   "execution_count": 5,
   "metadata": {},
   "outputs": [
    {
     "data": {
      "text/plain": [
       "(1024, 1024)"
      ]
     },
     "execution_count": 5,
     "metadata": {},
     "output_type": "execute_result"
    }
   ],
   "source": [
    "normal.shape"
   ]
  },
  {
   "cell_type": "markdown",
   "metadata": {},
   "source": [
    "### Data Augmentation ###\n",
    "\n",
    "Now that we have read the images, the next step is data augmentation. We use the concept of a \"data generator\" that you learnt in the last section."
   ]
  },
  {
   "cell_type": "code",
   "execution_count": 6,
   "metadata": {},
   "outputs": [],
   "source": [
    "from skimage.transform import rescale\n",
    "from tensorflow.keras.preprocessing.image import ImageDataGenerator\n",
    "\n",
    "datagen = ImageDataGenerator(\n",
    "    featurewise_center=True,\n",
    "    featurewise_std_normalization=True,\n",
    "    rotation_range=10,\n",
    "    width_shift_range=0,\n",
    "    height_shift_range=0,\n",
    "    vertical_flip=False,)\n",
    "\n",
    "def preprocess_img(img, mode):\n",
    "    img = (img - img.min())/(img.max() - img.min())\n",
    "    img = rescale(img, 0.25, multichannel=True, mode='constant')\n",
    "    \n",
    "    if mode == 'train':\n",
    "        if np.random.randn() > 0:\n",
    "            img = datagen.random_transform(img)\n",
    "    return img"
   ]
  },
  {
   "cell_type": "markdown",
   "metadata": {},
   "source": [
    "## 2. Model building"
   ]
  },
  {
   "cell_type": "markdown",
   "metadata": {},
   "source": [
    "We will be using a Resnet in this (you learnt about Resnets previously). \n",
    "\n",
    "For this to work, the script that defines the resnet model (resnet.py) should reside in the same folder as this notebook"
   ]
  },
  {
   "cell_type": "code",
   "execution_count": 7,
   "metadata": {},
   "outputs": [],
   "source": [
    "import resnet\n",
    "\n",
    "img_channels = 1\n",
    "img_rows = 256\n",
    "img_cols = 256\n",
    "\n",
    "nb_classes = 2"
   ]
  },
  {
   "cell_type": "code",
   "execution_count": 8,
   "metadata": {},
   "outputs": [],
   "source": [
    "import numpy as np\n",
    "import tensorflow as tf\n",
    "\n",
    "class AugmentedDataGenerator(tf.keras.utils.Sequence):\n",
    "    'Generates data for Keras'\n",
    "    def __init__(self, mode='train', ablation=None, disease_cls = ['nofinding', 'effusion'], \n",
    "                 batch_size=32, dim=(256, 256), n_channels=1, shuffle=True):\n",
    "        'Initialization'\n",
    "        self.dim = dim\n",
    "        self.batch_size = batch_size\n",
    "        self.labels = {}\n",
    "        self.list_IDs = []\n",
    "        self.mode = mode\n",
    "        \n",
    "        for i, cls in enumerate(disease_cls):\n",
    "            paths = glob.glob(os.path.join(DATASET_PATH, cls, '*'))\n",
    "            brk_point = int(len(paths)*0.8)\n",
    "            if self.mode == 'train':\n",
    "                paths = paths[:brk_point]\n",
    "            else:\n",
    "                paths = paths[brk_point:]\n",
    "            if ablation is not None:\n",
    "                paths = paths[:int(len(paths)*ablation/100)]\n",
    "            self.list_IDs += paths\n",
    "            self.labels.update({p:i for p in paths})\n",
    "        \n",
    "            \n",
    "        self.n_channels = n_channels\n",
    "        self.n_classes = len(disease_cls)\n",
    "        self.shuffle = shuffle\n",
    "        self.on_epoch_end()\n",
    "\n",
    "    def __len__(self):\n",
    "        'Denotes the number of batches per epoch'\n",
    "        return int(np.floor(len(self.list_IDs) / self.batch_size))\n",
    "\n",
    "    def __getitem__(self, index):\n",
    "        'Generate one batch of data'\n",
    "\n",
    "        indexes = self.indexes[index*self.batch_size:(index+1)*self.batch_size]\n",
    "        list_IDs_temp = [self.list_IDs[k] for k in indexes]\n",
    "\n",
    "        X, y = self.__data_generation(list_IDs_temp)\n",
    "\n",
    "        return X, y\n",
    "\n",
    "    def on_epoch_end(self):\n",
    "        'Updates indexes after each epoch'\n",
    "        self.indexes = np.arange(len(self.list_IDs))\n",
    "        if self.shuffle == True:\n",
    "            np.random.shuffle(self.indexes)\n",
    "\n",
    "    def __data_generation(self, list_IDs_temp):\n",
    "        'Generates data containing batch_size samples' # X : (n_samples, *dim, n_channels)\n",
    "        # Initialization\n",
    "        X = np.empty((self.batch_size, *self.dim, self.n_channels))\n",
    "        y = np.empty((self.batch_size), dtype=int)\n",
    "        \n",
    "        delete_rows = []\n",
    "\n",
    "        # Generate data\n",
    "        for i, ID in enumerate(list_IDs_temp):\n",
    "            img = io.imread(ID)\n",
    "            img = img[:, :, np.newaxis]\n",
    "            if img.shape == (1024, 1024,1):\n",
    "                img = preprocess_img(img, self.mode)\n",
    "                X[i,] = img\n",
    "                y[i] = self.labels[ID]\n",
    "            else:\n",
    "                delete_rows.append(i)\n",
    "                continue\n",
    "                \n",
    "        X = np.delete(X, delete_rows, axis=0)\n",
    "        y = np.delete(y, delete_rows, axis=0)\n",
    "        \n",
    "        return X, tf.keras.utils.to_categorical(y, num_classes=self.n_classes)"
   ]
  },
  {
   "cell_type": "markdown",
   "metadata": {},
   "source": [
    "## 3. Ablation Run"
   ]
  },
  {
   "cell_type": "markdown",
   "metadata": {},
   "source": [
    "In the previous notebook, you learnt about Ablation. Briefly, an ablation run is when you systematically modify certain parts of the input, in order to observe the equivalent change in the input.\n",
    "\n",
    "For the following section, we'll be using the Data Generator concept that you previously worked on."
   ]
  },
  {
   "cell_type": "code",
   "execution_count": 9,
   "metadata": {},
   "outputs": [
    {
     "name": "stdout",
     "output_type": "stream",
     "text": [
      "1/1 [==============================] - 0s 3ms/step - loss: 1.3989 - accuracy: 0.9667\n"
     ]
    },
    {
     "data": {
      "text/plain": [
       "<tensorflow.python.keras.callbacks.History at 0x7f3f4c3b2048>"
      ]
     },
     "execution_count": 9,
     "metadata": {},
     "output_type": "execute_result"
    }
   ],
   "source": [
    "model = resnet.ResnetBuilder.build_resnet_18((img_channels, img_rows, img_cols), nb_classes)\n",
    "model.compile(loss='categorical_crossentropy',optimizer='SGD',\n",
    "              metrics=['accuracy'])\n",
    "training_generator = AugmentedDataGenerator('train', ablation=5)\n",
    "validation_generator = AugmentedDataGenerator('val', ablation=5)\n",
    "\n",
    "model.fit(training_generator, epochs=1, validation_data=validation_generator)"
   ]
  },
  {
   "cell_type": "code",
   "execution_count": 10,
   "metadata": {},
   "outputs": [
    {
     "name": "stdout",
     "output_type": "stream",
     "text": [
      "Epoch 1/5\n",
      "1/1 [==============================] - 0s 1ms/step - loss: 1.7565 - accuracy: 0.1000\n",
      "Epoch 2/5\n",
      "1/1 [==============================] - 0s 2ms/step - loss: 1.4482 - accuracy: 0.9333\n",
      "Epoch 3/5\n",
      "1/1 [==============================] - 0s 1ms/step - loss: 1.3399 - accuracy: 0.9355\n",
      "Epoch 4/5\n",
      "1/1 [==============================] - 0s 2ms/step - loss: 1.2365 - accuracy: 0.9667\n",
      "Epoch 5/5\n",
      "1/1 [==============================] - 0s 2ms/step - loss: 1.1930 - accuracy: 0.9667\n"
     ]
    },
    {
     "data": {
      "text/plain": [
       "<tensorflow.python.keras.callbacks.History at 0x7f3eec3dc0b8>"
      ]
     },
     "execution_count": 10,
     "metadata": {},
     "output_type": "execute_result"
    }
   ],
   "source": [
    "model = resnet.ResnetBuilder.build_resnet_18((img_channels, img_rows, img_cols), nb_classes)\n",
    "model.compile(loss='categorical_crossentropy',optimizer='SGD',\n",
    "              metrics=['accuracy'])\n",
    "\n",
    "training_generator = AugmentedDataGenerator('train', ablation=5)\n",
    "validation_generator = AugmentedDataGenerator('val', ablation=5)\n",
    "\n",
    "model.fit(training_generator, epochs=5, validation_data=None)"
   ]
  },
  {
   "cell_type": "code",
   "execution_count": 11,
   "metadata": {},
   "outputs": [],
   "source": [
    "from sklearn.metrics import roc_auc_score\n",
    "from tensorflow.keras import optimizers\n",
    "from tensorflow.keras.callbacks import *\n",
    "\n",
    "class roc_callback(Callback):\n",
    "    \n",
    "    def on_train_begin(self, logs={}):\n",
    "        logs['val_auc'] = 0\n",
    "\n",
    "    def on_epoch_end(self, epoch, logs={}):\n",
    "        y_p = []\n",
    "        y_v = []\n",
    "        for i in range(len(validation_generator)):\n",
    "            x_val, y_val = validation_generator[i]\n",
    "            y_pred = self.model.predict(x_val)\n",
    "            y_p.append(y_pred)\n",
    "            y_v.append(y_val)\n",
    "        y_p = np.concatenate(y_p)\n",
    "        y_v = np.concatenate(y_v)\n",
    "        roc_auc = roc_auc_score(y_v, y_p)\n",
    "        print ('\\nVal AUC for epoch{}: {}'.format(epoch, roc_auc))\n",
    "        logs['val_auc'] = roc_auc"
   ]
  },
  {
   "cell_type": "code",
   "execution_count": 13,
   "metadata": {},
   "outputs": [
    {
     "name": "stdout",
     "output_type": "stream",
     "text": [
      "Epoch 1/5\n",
      "5/5 [==============================] - ETA: 0s - loss: 1.5154 - accuracy: 0.7089\n",
      "Val AUC for epoch0: 0.4655172413793104\n",
      "5/5 [==============================] - 11s 2s/step - loss: 1.5154 - accuracy: 0.7089 - val_loss: 2.9160 - val_accuracy: 0.9000 - val_auc: 0.4655\n",
      "Epoch 2/5\n",
      "5/5 [==============================] - ETA: 0s - loss: 1.2867 - accuracy: 0.9177\n",
      "Val AUC for epoch1: 0.41379310344827586\n",
      "5/5 [==============================] - 10s 2s/step - loss: 1.2867 - accuracy: 0.9177 - val_loss: 1.8222 - val_accuracy: 0.9355 - val_auc: 0.4138\n",
      "Epoch 3/5\n",
      "5/5 [==============================] - ETA: 0s - loss: 1.2691 - accuracy: 0.9114\n",
      "Val AUC for epoch2: 0.5714285714285714\n",
      "5/5 [==============================] - 10s 2s/step - loss: 1.2691 - accuracy: 0.9114 - val_loss: 1.5441 - val_accuracy: 0.9355 - val_auc: 0.5714\n",
      "Epoch 4/5\n",
      "5/5 [==============================] - ETA: 0s - loss: 1.2725 - accuracy: 0.9057\n",
      "Val AUC for epoch3: 0.48275862068965514\n",
      "5/5 [==============================] - 10s 2s/step - loss: 1.2725 - accuracy: 0.9057 - val_loss: 1.5360 - val_accuracy: 0.9032 - val_auc: 0.4828\n",
      "Epoch 5/5\n",
      "5/5 [==============================] - ETA: 0s - loss: 1.2732 - accuracy: 0.9051\n",
      "Val AUC for epoch4: 0.033333333333333326\n",
      "5/5 [==============================] - 10s 2s/step - loss: 1.2732 - accuracy: 0.9051 - val_loss: 1.1250 - val_accuracy: 0.9667 - val_auc: 0.0333\n"
     ]
    },
    {
     "data": {
      "text/plain": [
       "<tensorflow.python.keras.callbacks.History at 0x7f3e8c2e7c50>"
      ]
     },
     "execution_count": 13,
     "metadata": {},
     "output_type": "execute_result"
    }
   ],
   "source": [
    "model = resnet.ResnetBuilder.build_resnet_18((img_channels, img_rows, img_cols), nb_classes)\n",
    "model.compile(loss='categorical_crossentropy',optimizer='SGD',\n",
    "              metrics=['accuracy'])\n",
    "\n",
    "training_generator = AugmentedDataGenerator('train', ablation=20)\n",
    "validation_generator = AugmentedDataGenerator('val', ablation=20)\n",
    "\n",
    "auc_logger = roc_callback()\n",
    "\n",
    "model.fit(training_generator, epochs=5, validation_data=validation_generator, callbacks=[auc_logger])"
   ]
  },
  {
   "cell_type": "code",
   "execution_count": 14,
   "metadata": {},
   "outputs": [],
   "source": [
    "from functools import partial\n",
    "import tensorflow.keras.backend as K\n",
    "from itertools import product\n",
    "\n",
    "def w_categorical_crossentropy(y_true, y_pred, weights):\n",
    "    nb_cl = len(weights)\n",
    "    final_mask = K.zeros_like(y_pred[:, 0])\n",
    "    y_pred_max = K.max(y_pred, axis=1)\n",
    "    y_pred_max = K.reshape(y_pred_max, (K.shape(y_pred)[0], 1))\n",
    "    y_pred_max_mat = K.cast(K.equal(y_pred, y_pred_max), K.floatx())\n",
    "    for c_p, c_t in product(range(nb_cl), range(nb_cl)):\n",
    "        final_mask += (weights[c_t, c_p] * y_pred_max_mat[:, c_p] * y_true[:, c_t])\n",
    "    cross_ent = K.categorical_crossentropy(y_true, y_pred, from_logits=False)\n",
    "    return cross_ent * final_mask\n",
    "\n",
    "bin_weights = np.ones((2,2))\n",
    "bin_weights[0, 1] = 5\n",
    "bin_weights[1, 0] = 5\n",
    "ncce = partial(w_categorical_crossentropy, weights=bin_weights)\n",
    "ncce.__name__ ='w_categorical_crossentropy'"
   ]
  },
  {
   "cell_type": "code",
   "execution_count": 15,
   "metadata": {},
   "outputs": [
    {
     "name": "stdout",
     "output_type": "stream",
     "text": [
      "1/1 [==============================] - 0s 1ms/step - loss: 5.5409 - accuracy: 0.0645\n"
     ]
    },
    {
     "data": {
      "text/plain": [
       "<tensorflow.python.keras.callbacks.History at 0x7f3e8b0cee48>"
      ]
     },
     "execution_count": 15,
     "metadata": {},
     "output_type": "execute_result"
    }
   ],
   "source": [
    "model = resnet.ResnetBuilder.build_resnet_18((img_channels, img_rows, img_cols), nb_classes)\n",
    "model.compile(loss=ncce, optimizer='SGD',\n",
    "              metrics=['accuracy'])\n",
    "\n",
    "training_generator = AugmentedDataGenerator('train', ablation=5)\n",
    "validation_generator = AugmentedDataGenerator('val', ablation=5)\n",
    "\n",
    "model.fit(training_generator, epochs=1, validation_data=None)"
   ]
  },
  {
   "cell_type": "markdown",
   "metadata": {},
   "source": [
    "## 4. Final Run"
   ]
  },
  {
   "cell_type": "markdown",
   "metadata": {},
   "source": [
    "After deeply examining our data and building some preliminary models, we are finally ready to build a model that will perform our prediction task."
   ]
  },
  {
   "cell_type": "code",
   "execution_count": 16,
   "metadata": {},
   "outputs": [],
   "source": [
    "class DecayLR(tf.keras.callbacks.Callback):\n",
    "    def __init__(self, base_lr=0.01, decay_epoch=1):\n",
    "        super(DecayLR, self).__init__()\n",
    "        self.base_lr = base_lr\n",
    "        self.decay_epoch = decay_epoch \n",
    "        self.lr_history = []\n",
    "        \n",
    "    def on_train_begin(self, logs={}):\n",
    "        K.set_value(self.model.optimizer.lr, self.base_lr)\n",
    "\n",
    "    def on_epoch_end(self, epoch, logs={}):\n",
    "        new_lr = self.base_lr * (0.5 ** (epoch // self.decay_epoch))\n",
    "        self.lr_history.append(K.get_value(self.model.optimizer.lr))\n",
    "        K.set_value(self.model.optimizer.lr, new_lr)"
   ]
  },
  {
   "cell_type": "code",
   "execution_count": 17,
   "metadata": {},
   "outputs": [
    {
     "name": "stdout",
     "output_type": "stream",
     "text": [
      "Epoch 1/10\n",
      "13/13 [==============================] - ETA: 0s - loss: 2.2712 - accuracy: 0.5725\n",
      "Val AUC for epoch0: 0.5701058201058202\n",
      "\n",
      "Epoch 00001: val_auc improved from -inf to 0.57011, saving model to models/best_model.hdf5\n",
      "13/13 [==============================] - 39s 3s/step - loss: 2.2712 - accuracy: 0.5725 - val_loss: 5.3443 - val_accuracy: 0.1075 - val_auc: 0.5701\n",
      "Epoch 2/10\n",
      "13/13 [==============================] - ETA: 0s - loss: 2.1631 - accuracy: 0.5591\n",
      "Val AUC for epoch1: 0.5852941176470587\n",
      "\n",
      "Epoch 00002: val_auc improved from 0.57011 to 0.58529, saving model to models/best_model.hdf5\n",
      "13/13 [==============================] - 25s 2s/step - loss: 2.1631 - accuracy: 0.5591 - val_loss: 3.5104 - val_accuracy: 0.0968 - val_auc: 0.5853\n",
      "Epoch 3/10\n",
      "13/13 [==============================] - ETA: 0s - loss: 2.0383 - accuracy: 0.6355\n",
      "Val AUC for epoch2: 0.6411764705882352\n",
      "\n",
      "Epoch 00003: val_auc improved from 0.58529 to 0.64118, saving model to models/best_model.hdf5\n",
      "13/13 [==============================] - 25s 2s/step - loss: 2.0383 - accuracy: 0.6355 - val_loss: 3.3596 - val_accuracy: 0.0860 - val_auc: 0.6412\n",
      "Epoch 4/10\n",
      "13/13 [==============================] - ETA: 0s - loss: 2.0308 - accuracy: 0.7118\n",
      "Val AUC for epoch3: 0.5180722891566265\n",
      "\n",
      "Epoch 00004: val_auc did not improve from 0.64118\n",
      "13/13 [==============================] - 23s 2s/step - loss: 2.0308 - accuracy: 0.7118 - val_loss: 3.2708 - val_accuracy: 0.0860 - val_auc: 0.5181\n",
      "Epoch 5/10\n",
      "13/13 [==============================] - ETA: 0s - loss: 2.0061 - accuracy: 0.7346\n",
      "Val AUC for epoch4: 0.5797619047619048\n",
      "\n",
      "Epoch 00005: val_auc did not improve from 0.64118\n",
      "13/13 [==============================] - 28s 2s/step - loss: 2.0061 - accuracy: 0.7346 - val_loss: 2.9860 - val_accuracy: 0.1075 - val_auc: 0.5798\n",
      "Epoch 6/10\n",
      "13/13 [==============================] - ETA: 0s - loss: 1.9883 - accuracy: 0.7365\n",
      "Val AUC for epoch5: 0.524547803617571\n",
      "\n",
      "Epoch 00006: val_auc did not improve from 0.64118\n",
      "13/13 [==============================] - 26s 2s/step - loss: 1.9883 - accuracy: 0.7365 - val_loss: 2.7612 - val_accuracy: 0.1170 - val_auc: 0.5245\n",
      "Epoch 7/10\n",
      "13/13 [==============================] - ETA: 0s - loss: 2.0141 - accuracy: 0.7414\n",
      "Val AUC for epoch6: 0.6718954248366014\n",
      "\n",
      "Epoch 00007: val_auc improved from 0.64118 to 0.67190, saving model to models/best_model.hdf5\n",
      "13/13 [==============================] - 20s 2s/step - loss: 2.0141 - accuracy: 0.7414 - val_loss: 2.6299 - val_accuracy: 0.1158 - val_auc: 0.6719\n",
      "Epoch 8/10\n",
      "13/13 [==============================] - ETA: 0s - loss: 2.0081 - accuracy: 0.7537\n",
      "Val AUC for epoch7: 0.6482683982683983\n",
      "\n",
      "Epoch 00008: val_auc did not improve from 0.67190\n",
      "13/13 [==============================] - 21s 2s/step - loss: 2.0081 - accuracy: 0.7537 - val_loss: 2.4338 - val_accuracy: 0.1277 - val_auc: 0.6483\n",
      "Epoch 9/10\n",
      "13/13 [==============================] - ETA: 0s - loss: 2.0309 - accuracy: 0.7475\n",
      "Val AUC for epoch8: 0.7307189542483661\n",
      "\n",
      "Epoch 00009: val_auc improved from 0.67190 to 0.73072, saving model to models/best_model.hdf5\n",
      "13/13 [==============================] - 21s 2s/step - loss: 2.0309 - accuracy: 0.7475 - val_loss: 2.3805 - val_accuracy: 0.1684 - val_auc: 0.7307\n",
      "Epoch 10/10\n",
      "13/13 [==============================] - ETA: 0s - loss: 2.0132 - accuracy: 0.7463\n",
      "Val AUC for epoch9: 0.7191176470588236\n",
      "\n",
      "Epoch 00010: val_auc did not improve from 0.73072\n",
      "13/13 [==============================] - 27s 2s/step - loss: 2.0132 - accuracy: 0.7463 - val_loss: 2.2621 - val_accuracy: 0.1915 - val_auc: 0.7191\n"
     ]
    },
    {
     "data": {
      "text/plain": [
       "<tensorflow.python.keras.callbacks.History at 0x7f3e89eb9860>"
      ]
     },
     "execution_count": 17,
     "metadata": {},
     "output_type": "execute_result"
    }
   ],
   "source": [
    "model = resnet.ResnetBuilder.build_resnet_18((img_channels, img_rows, img_cols), nb_classes)\n",
    "sgd = optimizers.SGD(lr=0.005)\n",
    "\n",
    "bin_weights = np.ones((2,2))\n",
    "bin_weights[1, 1] = 10\n",
    "bin_weights[1, 0] = 10\n",
    "ncce = partial(w_categorical_crossentropy, weights=bin_weights)\n",
    "ncce.__name__ ='w_categorical_crossentropy'\n",
    "\n",
    "model.compile(loss=ncce,optimizer= sgd,\n",
    "              metrics=['accuracy'])\n",
    "training_generator = AugmentedDataGenerator('train', ablation=50)\n",
    "validation_generator = AugmentedDataGenerator('val', ablation=50)\n",
    "\n",
    "auc_logger = roc_callback()\n",
    "filepath = 'models/best_model.hdf5'\n",
    "checkpoint = ModelCheckpoint(filepath, monitor='val_auc', verbose=1, save_best_only=True, mode='max')\n",
    "\n",
    "decay = DecayLR()\n",
    "\n",
    "model.fit(training_generator, epochs=10, validation_data=validation_generator, callbacks=[auc_logger, decay, checkpoint])"
   ]
  },
  {
   "cell_type": "markdown",
   "metadata": {},
   "source": [
    "## 5. Making a Prediction"
   ]
  },
  {
   "cell_type": "code",
   "execution_count": 18,
   "metadata": {},
   "outputs": [],
   "source": [
    "val_model = resnet.ResnetBuilder.build_resnet_18((img_channels, img_rows, img_cols), nb_classes)\n",
    "val_model.load_weights('models/best_model.hdf5')"
   ]
  },
  {
   "cell_type": "code",
   "execution_count": 19,
   "metadata": {},
   "outputs": [
    {
     "data": {
      "text/plain": [
       "<matplotlib.image.AxesImage at 0x7f3e85aad2e8>"
      ]
     },
     "execution_count": 19,
     "metadata": {},
     "output_type": "execute_result"
    },
    {
     "data": {
      "image/png": "[encoded data removed]",
      "text/plain": [
       "<Figure size 432x288 with 1 Axes>"
      ]
     },
     "metadata": {
      "needs_background": "light"
     },
     "output_type": "display_data"
    }
   ],
   "source": [
    "effusion_path = os.path.join(DATASET_PATH, disease_cls[0], '*')\n",
    "effusion = glob.glob(effusion_path)\n",
    "effusion = io.imread(effusion[-8])\n",
    "plt.imshow(effusion,cmap='gray')"
   ]
  },
  {
   "cell_type": "code",
   "execution_count": 20,
   "metadata": {},
   "outputs": [
    {
     "data": {
      "text/plain": [
       "array([[0.25428748, 0.7457125 ]], dtype=float32)"
      ]
     },
     "execution_count": 20,
     "metadata": {},
     "output_type": "execute_result"
    }
   ],
   "source": [
    "img = preprocess_img(effusion[:, :, np.newaxis], 'validation')\n",
    "val_model.predict(img[np.newaxis,:])"
   ]
  },
  {
   "cell_type": "code",
   "execution_count": null,
   "metadata": {},
   "outputs": [],
   "source": []
  }
 ],
 "metadata": {
  "anaconda-cloud": {},
  "kernelspec": {
   "display_name": "Python 3",
   "language": "python",
   "name": "python3"
  },
  "language_info": {
   "codemirror_mode": {
    "name": "ipython",
    "version": 3
   },
   "file_extension": ".py",
   "mimetype": "text/x-python",
   "name": "python",
   "nbconvert_exporter": "python",
   "pygments_lexer": "ipython3",
   "version": "3.8.5"
  }
 },
 "nbformat": 4,
 "nbformat_minor": 1
}
